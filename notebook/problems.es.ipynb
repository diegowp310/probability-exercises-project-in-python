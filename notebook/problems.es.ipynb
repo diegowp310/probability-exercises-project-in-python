{
 "cells": [
  {
   "cell_type": "markdown",
   "id": "a41f3622",
   "metadata": {},
   "source": [
    "# Ejercicios de probabilidad"
   ]
  },
  {
   "cell_type": "markdown",
   "id": "a6bdbd89",
   "metadata": {},
   "source": [
    "## Ejercicio 1 \n",
    "\n",
    "Dos dados se lanzan una vez y se observa el total obtenido. Usa una simulación para encontrar la probabilidad estimada de que la puntuación sea mayor a 7 o un número par. Una simulación es una repetición del mismo experimento multiples veces para observar su comportamiento:\n",
    "\n",
    "- Ejecuta el experimento 1000 veces (lanza 2 dados 1000 veces, y suma el número de ambos dados).\n",
    "- Lleva ua cuenta de los números y las veces que la suma fue mayor a 7 o un número par.\n",
    "- Divide el número del paso 2 entre el número de iteraciones(1000)."
   ]
  },
  {
   "cell_type": "code",
   "execution_count": 6,
   "id": "8939d892",
   "metadata": {},
   "outputs": [
    {
     "data": {
      "text/plain": [
       "0.259"
      ]
     },
     "execution_count": 6,
     "metadata": {},
     "output_type": "execute_result"
    }
   ],
   "source": [
    "import numpy as np \n",
    "\n",
    "def par (num):\n",
    "    if num%2 == 0:\n",
    "        return True\n",
    "    else:\n",
    "        return False\n",
    "    \n",
    "\n",
    "dado = [1,2,3,4,5,6]\n",
    "trials = 1000\n",
    "acum = 0 \n",
    "for _ in range (trials): \n",
    "    outcome = np.random.choice(dado,2).sum()\n",
    "    if outcome > 7 and outcome%2 == 0:\n",
    "        acum = acum + 1 \n",
    "acum/trials\n"
   ]
  },
  {
   "cell_type": "markdown",
   "id": "55732bca",
   "metadata": {},
   "source": [
    "## Ejercicio 2\n",
    "\n",
    "Una caja contiene 10 bolas blancas, 20 bolas rojas y 30 bolas verdes. Si tomamos 5 bolas de la caja reemplazándolas (tomando una bola, anotando el color y luego regresandola a la caja). Queremos saber la probabilidad de:\n",
    "\n",
    "1. Tomar 3 blancas y 2 rojas.\n",
    "2. Toas todas del mismo color.\n",
    "\n",
    "Ejecuta el experimento 1000 veces y calcula las probabilidades que mencionadas."
   ]
  },
  {
   "cell_type": "code",
   "execution_count": 1,
   "id": "23244d20",
   "metadata": {},
   "outputs": [
    {
     "data": {
      "text/plain": [
       "0.0346"
      ]
     },
     "execution_count": 1,
     "metadata": {},
     "output_type": "execute_result"
    }
   ],
   "source": [
    "import numpy as np\n",
    "\n",
    "box = ['white']*10 + ['red']*20 + ['green']*30 \n",
    "trials = 10000\n",
    "exito = 0\n",
    "for _ in range (trials):\n",
    "    counter = {}\n",
    "    counter ['white'] = 0\n",
    "    counter ['red'] = 0\n",
    "    counter ['green'] = 0\n",
    "    resultados = np.random.choice(box,5)\n",
    "    for resultado in resultados: \n",
    "        counter [resultado] = counter [resultado] + 1\n",
    "    if counter ['white'] == 5 or counter ['red'] == 5 or counter ['green'] == 5:\n",
    "        exito = exito + 1\n",
    "exito/trials "
   ]
  },
  {
   "cell_type": "code",
   "execution_count": 2,
   "id": "b33b74f4",
   "metadata": {},
   "outputs": [
    {
     "data": {
      "text/plain": [
       "0.0045"
      ]
     },
     "execution_count": 2,
     "metadata": {},
     "output_type": "execute_result"
    }
   ],
   "source": [
    "import numpy as np\n",
    "\n",
    "box = ['white']*10 + ['red']*20 + ['green']*30 \n",
    "trials = 10000\n",
    "exito = 0\n",
    "for _ in range (trials):\n",
    "    counter = {}\n",
    "    counter ['white'] = 0\n",
    "    counter ['red'] = 0\n",
    "    counter ['green'] = 0\n",
    "    resultados = np.random.choice(box,5)\n",
    "    for resultado in resultados: \n",
    "        counter [resultado] = counter [resultado] + 1\n",
    "    if counter ['white'] == 3 and counter ['red'] == 2 :\n",
    "        exito = exito + 1\n",
    "exito/trials "
   ]
  }
 ],
 "metadata": {
  "kernelspec": {
   "display_name": "Python 3",
   "language": "python",
   "name": "python3"
  },
  "language_info": {
   "codemirror_mode": {
    "name": "ipython",
    "version": 3
   },
   "file_extension": ".py",
   "mimetype": "text/x-python",
   "name": "python",
   "nbconvert_exporter": "python",
   "pygments_lexer": "ipython3",
   "version": "3.11.4"
  }
 },
 "nbformat": 4,
 "nbformat_minor": 5
}
